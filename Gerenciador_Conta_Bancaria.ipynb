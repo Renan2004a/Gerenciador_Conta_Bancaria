{
  "nbformat": 4,
  "nbformat_minor": 0,
  "metadata": {
    "colab": {
      "provenance": [],
      "authorship_tag": "ABX9TyMBJl8adfRJIBQ6/Omowim8"
    },
    "kernelspec": {
      "name": "python3",
      "display_name": "Python 3"
    },
    "language_info": {
      "name": "python"
    }
  },
  "cells": [
    {
      "cell_type": "code",
      "execution_count": null,
      "metadata": {
        "id": "jHIfqd6OfTga"
      },
      "outputs": [],
      "source": [
        "import time  # Importa 'time' para usar a função 'time.sleep'.\n",
        "\n",
        "saldo = 0  # Inicializa a variável 'saldo' com o valor zero.\n",
        "valor = 0  # Inicializa a variável 'valor' com o valor zero.\n",
        "\n",
        "while True:  # Inicia um loop infinito para manter o programa em execução.\n",
        "    print(\"BEM VINDO AO NOSSO BANCO\")\n",
        "    print (\"\")\n",
        "    print(\"1 - Depósito\")\n",
        "    print(\"2 - Transferência\")\n",
        "    print(\"3 - Saldo\")\n",
        "    print(\"0 - Sair\")\n",
        "    print(\"\")\n",
        "    opcao = input(\"Escolha uma de nossas opções: \")\n",
        "\n",
        "    if opcao == \"1\":  # Verifica se a opção escolhida é \"1 - Depósito\".\n",
        "        valor = float(input(\"Digite o valor para ser depositado: \"))\n",
        "        saldo += valor  # Adiciona o valor ao saldo.\n",
        "        print(\"Depósito feito com sucesso!\")\n",
        "        print(\"\")\n",
        "\n",
        "    elif opcao == \"2\":  # Verifica se a opção escolhida é \"2 - Transferência\".\n",
        "        valor = float(input(\"Digite o valor para ser transferido: \"))\n",
        "        if saldo >= 10000:  # Verifica se o saldo é maior ou igual a 10.000.\n",
        "            saldo -= valor  # Subtrai o valor do saldo.\n",
        "        else:\n",
        "            saldo -= valor + 2  # Subtrai o valor e uma taxa de 2 unidades caso o saldo seja inferior a 10.000.\n",
        "        if saldo < 0:  # Verifica se o saldo ficou negativo após a transferência.\n",
        "            saldo += valor + 2  # Restaura o saldo original.\n",
        "            print(\"Transferência não pode ser efetuada. Seu saldo é insuficiente.\")\n",
        "            print(\"\")\n",
        "        else:\n",
        "            print(\"Transferência feita com sucesso!\")\n",
        "            print(\"\")\n",
        "\n",
        "    elif opcao == \"3\":  # Verifica se a opção escolhida é \"3 - Saldo\".\n",
        "        print(\"O saldo atual é de: R$\", saldo)\n",
        "        print(\"\")\n",
        "\n",
        "    elif opcao == \"0\":  # Verifica se a opção escolhida é \"0 - Sair\".\n",
        "        print(\"Saindo do programa. Até logo!\")\n",
        "        break  # Encerra o loop e o programa.\n",
        "\n",
        "    else:\n",
        "        print(\"Opção inválida. Escolha uma opção válida.\")\n",
        "        print(\"\")\n",
        "\n",
        "    print(\"Agradecemos por utilizar nosso banco!\")\n",
        "    print(\"\")\n",
        "    time.sleep(3.0)  # Aguarda 3 segundos antes de retornar ao início do loop."
      ]
    }
  ]
}